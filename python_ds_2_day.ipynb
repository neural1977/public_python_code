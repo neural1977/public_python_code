{
  "nbformat": 4,
  "nbformat_minor": 0,
  "metadata": {
    "colab": {
      "provenance": [],
      "collapsed_sections": []
    },
    "kernelspec": {
      "name": "python3",
      "display_name": "Python 3"
    },
    "language_info": {
      "name": "python"
    }
  },
  "cells": [
    {
      "cell_type": "code",
      "execution_count": 61,
      "metadata": {
        "colab": {
          "base_uri": "https://localhost:8080/"
        },
        "id": "oCf184Kbi-AJ",
        "outputId": "11d09158-de4e-4c43-f24d-4c06e1a84800"
      },
      "outputs": [
        {
          "output_type": "stream",
          "name": "stdout",
          "text": [
            "Looking in indexes: https://pypi.org/simple, https://us-python.pkg.dev/colab-wheels/public/simple/\n",
            "Requirement already satisfied: numpy in /usr/local/lib/python3.7/dist-packages (1.21.6)\n"
          ]
        }
      ],
      "source": [
        "!pip install numpy"
      ]
    },
    {
      "cell_type": "code",
      "source": [
        "def calculate_occurrencies(input_string):\n",
        "  ''' Calculate the occurrencies of each character in an input string '''\n",
        "  d_temp = {}\n",
        "\n",
        "  for char in input_string.lower():\n",
        "    occ = d_temp.get(char, 0)\n",
        "    if occ == 0: \n",
        "      d_temp.update({char : 1})\n",
        "    else: \n",
        "      d_temp[char] += 1\n",
        "\n",
        "  # make all this as a comprehension or map or filter \n",
        "  \n",
        "\n",
        "  return d_temp"
      ],
      "metadata": {
        "id": "sTws213Kn8Se"
      },
      "execution_count": 62,
      "outputs": []
    },
    {
      "cell_type": "code",
      "source": [
        "import numpy as np"
      ],
      "metadata": {
        "id": "g1eJTETWtG61"
      },
      "execution_count": 63,
      "outputs": []
    },
    {
      "cell_type": "code",
      "source": [
        "S = [\"This Workshop is Fantastic\", \"My Students are brillant\"]\n",
        "list_histogram = []\n",
        "for s in S: \n",
        "  list_histogram.append(calculate_occurrencies(input_string = s))\n",
        "\n",
        "print(list_histogram)"
      ],
      "metadata": {
        "colab": {
          "base_uri": "https://localhost:8080/"
        },
        "id": "0dABtojDnIj6",
        "outputId": "dcbddd66-397b-4126-e623-606263ea0f0b"
      },
      "execution_count": 64,
      "outputs": [
        {
          "output_type": "stream",
          "name": "stdout",
          "text": [
            "[{'t': 3, 'h': 2, 'i': 3, 's': 4, ' ': 3, 'w': 1, 'o': 2, 'r': 1, 'k': 1, 'p': 1, 'f': 1, 'a': 2, 'n': 1, 'c': 1}, {'m': 1, 'y': 1, ' ': 3, 's': 2, 't': 3, 'u': 1, 'd': 1, 'e': 2, 'n': 2, 'a': 2, 'r': 2, 'b': 1, 'i': 1, 'l': 2}]\n"
          ]
        }
      ]
    },
    {
      "cell_type": "code",
      "source": [
        "class Point: \n",
        "  def __init__(self, x = 0, y = 0): \n",
        "    self.x = x\n",
        "    self.y = y\n",
        "\n",
        "    def __del__(self):\n",
        "      class_name = self.__class__.__name__\n",
        "      print(class_name, \"destroyed\")\n",
        "\n",
        "pt1 = Point()\n",
        "pt2 = Point(2, 4)\n",
        "pt3 = Point(1, 2)\n"
      ],
      "metadata": {
        "id": "zvOP23i16mgt"
      },
      "execution_count": 65,
      "outputs": []
    },
    {
      "cell_type": "code",
      "source": [
        "print(id(pt1))\n",
        "print(id(pt2))\n",
        "print(id(pt3))"
      ],
      "metadata": {
        "colab": {
          "base_uri": "https://localhost:8080/"
        },
        "id": "l2gYIdNS7jKe",
        "outputId": "44f15a7f-f5a9-45c5-b1b8-07b09842f236"
      },
      "execution_count": 66,
      "outputs": [
        {
          "output_type": "stream",
          "name": "stdout",
          "text": [
            "140562732195216\n",
            "140562732193808\n",
            "140562732194064\n"
          ]
        }
      ]
    },
    {
      "cell_type": "code",
      "source": [
        "del pt1\n",
        "del pt2\n",
        "del pt3"
      ],
      "metadata": {
        "id": "3zlMHC0E7qPv"
      },
      "execution_count": 67,
      "outputs": []
    },
    {
      "cell_type": "code",
      "source": [
        "class JustCounter: \n",
        "  __secret_count = 0      # __ makes a private attribute\n",
        "  inner_var = 0           # public attribute o class variable\n",
        "\n",
        "  def count(self):\n",
        "    self.__secret_count += 1\n",
        "    self.inner_var = 5\n",
        "    print(self.__secret_count)"
      ],
      "metadata": {
        "id": "VJkGpRMW8LcJ"
      },
      "execution_count": 68,
      "outputs": []
    },
    {
      "cell_type": "markdown",
      "source": [
        "#**Class Instantiation**"
      ],
      "metadata": {
        "id": "686cBCzM82os"
      }
    },
    {
      "cell_type": "code",
      "source": [
        "counter = JustCounter()"
      ],
      "metadata": {
        "id": "l02EVg1V8xlg"
      },
      "execution_count": 69,
      "outputs": []
    },
    {
      "cell_type": "code",
      "source": [
        "counter.count()"
      ],
      "metadata": {
        "colab": {
          "base_uri": "https://localhost:8080/"
        },
        "id": "99KfAegJ8_Jz",
        "outputId": "f465139c-e08e-40d7-e88f-27bdbdfa675a"
      },
      "execution_count": 70,
      "outputs": [
        {
          "output_type": "stream",
          "name": "stdout",
          "text": [
            "1\n"
          ]
        }
      ]
    },
    {
      "cell_type": "code",
      "source": [
        "counter.count()"
      ],
      "metadata": {
        "colab": {
          "base_uri": "https://localhost:8080/"
        },
        "id": "N1YUpGbV9DiP",
        "outputId": "c4582321-469a-4e9c-dbc8-2a32bdc4e9c6"
      },
      "execution_count": 71,
      "outputs": [
        {
          "output_type": "stream",
          "name": "stdout",
          "text": [
            "2\n"
          ]
        }
      ]
    },
    {
      "cell_type": "code",
      "source": [
        "print(counter.inner_var)"
      ],
      "metadata": {
        "colab": {
          "base_uri": "https://localhost:8080/"
        },
        "id": "9TxfGPew9akY",
        "outputId": "3f1d7dd5-d9b5-4b79-efef-777af5a81f06"
      },
      "execution_count": 72,
      "outputs": [
        {
          "output_type": "stream",
          "name": "stdout",
          "text": [
            "5\n"
          ]
        }
      ]
    },
    {
      "cell_type": "code",
      "source": [
        "print(counter._JustCounter__secret_count)"
      ],
      "metadata": {
        "colab": {
          "base_uri": "https://localhost:8080/"
        },
        "id": "k6V1RoMS9x8U",
        "outputId": "9dde78ce-b3a9-4917-bf74-dba793977a7b"
      },
      "execution_count": 73,
      "outputs": [
        {
          "output_type": "stream",
          "name": "stdout",
          "text": [
            "2\n"
          ]
        }
      ]
    },
    {
      "cell_type": "code",
      "source": [
        "import tensorflow as tf "
      ],
      "metadata": {
        "id": "q3tkRRwpgQsd"
      },
      "execution_count": 77,
      "outputs": []
    },
    {
      "cell_type": "code",
      "source": [
        "tf.__version__"
      ],
      "metadata": {
        "colab": {
          "base_uri": "https://localhost:8080/",
          "height": 36
        },
        "id": "2V7oEDFSgUJE",
        "outputId": "79c4c526-5302-4f09-9c95-fa39c494631a"
      },
      "execution_count": 78,
      "outputs": [
        {
          "output_type": "execute_result",
          "data": {
            "text/plain": [
              "'2.8.2'"
            ],
            "application/vnd.google.colaboratory.intrinsic+json": {
              "type": "string"
            }
          },
          "metadata": {},
          "execution_count": 78
        }
      ]
    },
    {
      "cell_type": "code",
      "source": [
        "!python --version"
      ],
      "metadata": {
        "colab": {
          "base_uri": "https://localhost:8080/"
        },
        "id": "cGtfKe5igb92",
        "outputId": "83aac6dc-313c-47a0-8baf-361f389bf91d"
      },
      "execution_count": 79,
      "outputs": [
        {
          "output_type": "stream",
          "name": "stdout",
          "text": [
            "Python 3.7.14\n"
          ]
        }
      ]
    },
    {
      "cell_type": "code",
      "source": [
        "import numpy"
      ],
      "metadata": {
        "id": "EJvJqr5OgFzP"
      },
      "execution_count": 74,
      "outputs": []
    },
    {
      "cell_type": "code",
      "source": [
        "numpy.__version__"
      ],
      "metadata": {
        "colab": {
          "base_uri": "https://localhost:8080/",
          "height": 36
        },
        "id": "e_PNI1JygMWF",
        "outputId": "61edbbe9-7a38-43c5-a395-8ec859ba4b30"
      },
      "execution_count": 75,
      "outputs": [
        {
          "output_type": "execute_result",
          "data": {
            "text/plain": [
              "'1.21.6'"
            ],
            "application/vnd.google.colaboratory.intrinsic+json": {
              "type": "string"
            }
          },
          "metadata": {},
          "execution_count": 75
        }
      ]
    },
    {
      "cell_type": "code",
      "source": [
        "big_array = np.linspace(3,0,100000000)"
      ],
      "metadata": {
        "id": "_0oC-Bss0p98"
      },
      "execution_count": 91,
      "outputs": []
    },
    {
      "cell_type": "code",
      "source": [
        "big_array"
      ],
      "metadata": {
        "colab": {
          "base_uri": "https://localhost:8080/"
        },
        "id": "iJYsFv8K0xgo",
        "outputId": "aab3065f-006d-4d4e-a7d1-3fb871d0947f"
      },
      "execution_count": 92,
      "outputs": [
        {
          "output_type": "execute_result",
          "data": {
            "text/plain": [
              "array([3.00000000e+00, 2.99999997e+00, 2.99999994e+00, ...,\n",
              "       6.00000005e-08, 3.00000003e-08, 0.00000000e+00])"
            ]
          },
          "metadata": {},
          "execution_count": 92
        }
      ]
    },
    {
      "cell_type": "code",
      "source": [
        "import timeit"
      ],
      "metadata": {
        "id": "qcwyViZj01CZ"
      },
      "execution_count": 93,
      "outputs": []
    },
    {
      "cell_type": "code",
      "source": [
        "start_time = timeit.default_timer()\n",
        "sorted_array = np.sort(big_array, kind = \"mergesort\")\n",
        "print(\"Elapsed time: \", timeit.default_timer() - start_time)"
      ],
      "metadata": {
        "colab": {
          "base_uri": "https://localhost:8080/"
        },
        "id": "MGsAOgsJ009d",
        "outputId": "b95804b1-cdd1-4802-cfda-ecf962143146"
      },
      "execution_count": 111,
      "outputs": [
        {
          "output_type": "stream",
          "name": "stdout",
          "text": [
            "Elapsed time:  0.15092861899756826\n"
          ]
        }
      ]
    },
    {
      "cell_type": "code",
      "source": [
        "sorted_array"
      ],
      "metadata": {
        "colab": {
          "base_uri": "https://localhost:8080/"
        },
        "id": "e4CmdW_e1ci9",
        "outputId": "c896505c-bc81-4184-d973-b5fafe9365b6"
      },
      "execution_count": 95,
      "outputs": [
        {
          "output_type": "execute_result",
          "data": {
            "text/plain": [
              "array([0.00000000e+00, 3.00000003e-08, 6.00000005e-08, ...,\n",
              "       2.99999994e+00, 2.99999997e+00, 3.00000000e+00])"
            ]
          },
          "metadata": {},
          "execution_count": 95
        }
      ]
    }
  ]
}